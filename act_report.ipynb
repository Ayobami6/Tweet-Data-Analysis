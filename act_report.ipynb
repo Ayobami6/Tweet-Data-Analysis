{
 "cells": [
  {
   "cell_type": "markdown",
   "metadata": {},
   "source": [
    "## Report: act_report"
   ]
  },
  {
   "cell_type": "markdown",
   "metadata": {},
   "source": [
    "## Title: Data-Wrangling Act Report On WeRateDogs Twitter Account Tweets From 2015 -2017\n",
    "### Presented by: Ayobami Alaran\n",
    "### Date: 25-06-2022"
   ]
  },
  {
   "cell_type": "markdown",
   "metadata": {},
   "source": [
    "#### **Insights Questions**"
   ]
  },
  {
   "cell_type": "markdown",
   "metadata": {},
   "source": [
    "1. Which dog specie has the highest prediction count in prediction 1\n",
    "\n",
    "2. Which dog tweet has the highest count of retweet\n",
    "\n",
    "3. The most frequent source of dog's tweet"
   ]
  },
  {
   "cell_type": "markdown",
   "metadata": {},
   "source": [
    "### Insight 1: Which dog specie has the highest prediction count in prediction 1"
   ]
  },
  {
   "cell_type": "markdown",
   "metadata": {},
   "source": [
    "From the result of the analysis it was observed that the dog specie with the highest prediction count in prediction 1 is the Golden_Retriever with the highest count of 150"
   ]
  },
  {
   "cell_type": "markdown",
   "metadata": {},
   "source": [
    "### Insight 2: Which dog tweet has the highest count of retweet"
   ]
  },
  {
   "cell_type": "markdown",
   "metadata": {},
   "source": [
    "The result of the analysis reveals the tweet with highest retweet count is **Here's a doggo realizing you can stand in a po...** with the retweet count of **70770** among all other tweets between the 2015-2017"
   ]
  },
  {
   "cell_type": "markdown",
   "metadata": {},
   "source": [
    "### Insight 3: The most frequent source of dog's tweet"
   ]
  },
  {
   "cell_type": "markdown",
   "metadata": {},
   "source": [
    "From the analysis it was revealed that the most frequent tweet source for dogs' tweet between 2015 - 2017 is twitter for iphone"
   ]
  },
  {
   "cell_type": "markdown",
   "metadata": {},
   "source": [
    "![images.png](viz.png)"
   ]
  },
  {
   "cell_type": "markdown",
   "metadata": {},
   "source": [
    "The above data viz furthe illustrate the tweet source distribution for dogs' tweet"
   ]
  },
  {
   "cell_type": "markdown",
   "metadata": {},
   "source": [
    "### Limitations"
   ]
  },
  {
   "cell_type": "markdown",
   "metadata": {},
   "source": [
    ">- Wasn't able to analyze all tweet from WeRateDogs account from the specified period due to the fact that some of the tweet has been deleted.\n",
    ">- The dog specie prediction based on the their images might not be 100% accurate or correct because it was artificial intelligence prediction"
   ]
  }
 ],
 "metadata": {
  "kernelspec": {
   "display_name": "Python 3.9.7 ('base')",
   "language": "python",
   "name": "python3"
  },
  "language_info": {
   "codemirror_mode": {
    "name": "ipython",
    "version": 3
   },
   "file_extension": ".py",
   "mimetype": "text/x-python",
   "name": "python",
   "nbconvert_exporter": "python",
   "pygments_lexer": "ipython3",
   "version": "3.9.7"
  },
  "vscode": {
   "interpreter": {
    "hash": "92c3caed2cbcebea5ea684e2b26c9507bafede965983d97a09f7d91176981475"
   }
  }
 },
 "nbformat": 4,
 "nbformat_minor": 2
}
