{
 "cells": [
  {
   "cell_type": "markdown",
   "metadata": {},
   "source": [
    "## Reporting: wrangle_report\n",
    "* Create a **300-600 word written report** called \"wrangle_report.pdf\" or \"wrangle_report.html\" that briefly describes your wrangling efforts. This is to be framed as an internal document."
   ]
  },
  {
   "cell_type": "markdown",
   "metadata": {},
   "source": [
    "## Title: Data-Wrangling Report On WeRateDogs Twitter Account Tweets From 2015 -2017\n",
    "### Presented by: Ayobami Alaran\n",
    "### Date: 25-06-2022"
   ]
  },
  {
   "cell_type": "markdown",
   "metadata": {},
   "source": [
    "## Introduction"
   ]
  },
  {
   "cell_type": "markdown",
   "metadata": {},
   "source": [
    "WeRateDogs is twitter account with username dog_rates where people post tweets about dogs and rate them.\n",
    "[click here](https://twitter.com/dog_rates) for more info on the twitter account\n",
    "\n",
    "Data-Wrangling Analysis process which includes **Gathering, Assessing and Cleaning** was performed on the data obtained from the twitter account using three various method of gathering data for the gathering stage;\n",
    ">- data_1 = twitter_archive_enhanced.csv (which is already available for download in the classroom)\n",
    ">- data_2 = image_predictions.tsv (queried from the udacity server using request library)\n",
    ">- data_3 = twitter_data.json (scraped from twitter with twitter Api v1)"
   ]
  },
  {
   "cell_type": "markdown",
   "metadata": {},
   "source": [
    "### Project Objective"
   ]
  },
  {
   "cell_type": "markdown",
   "metadata": {},
   "source": [
    "Perform data-wrangling analysis on the WeRateDog tweets from 2015 - 2017, which involves gathering, assessing and cleaning the datas "
   ]
  },
  {
   "cell_type": "markdown",
   "metadata": {},
   "source": [
    "### Assessing The Data"
   ]
  },
  {
   "cell_type": "markdown",
   "metadata": {},
   "source": [
    "The Gathered data was assessed visualy using Ms-Excel Spreadsheet and .head and .tail function in python to some quality issues(content issues) and tidiness(Structural issues). \n",
    "Moreso, the dataset was also assessed programmatically using some funtions in python to further investigate te dataset for hidden issues."
   ]
  },
  {
   "cell_type": "markdown",
   "metadata": {},
   "source": [
    "### Cleaning "
   ]
  },
  {
   "cell_type": "markdown",
   "metadata": {},
   "source": [
    "After assessing and documenting the detected issues, the cleaning stage was initialize to fix the issues highligted to get the dataset ready for analysis by writing and automating some python codes to fix the issues. "
   ]
  },
  {
   "cell_type": "markdown",
   "metadata": {},
   "source": [
    "### Project Help Sources "
   ]
  },
  {
   "cell_type": "markdown",
   "metadata": {},
   "source": [
    "Analysis and some syntax ideas was acquired from ALX DA Udacity classroom, data science community such as stackoverflow and geeks4geeks,datacamp and some code documentation websites such as tweepy docs and regular expression docs."
   ]
  }
 ],
 "metadata": {
  "kernelspec": {
   "display_name": "Python 3",
   "language": "python",
   "name": "python3"
  },
  "language_info": {
   "codemirror_mode": {
    "name": "ipython",
    "version": 3
   },
   "file_extension": ".py",
   "mimetype": "text/x-python",
   "name": "python",
   "nbconvert_exporter": "python",
   "pygments_lexer": "ipython3",
   "version": "3.6.3"
  }
 },
 "nbformat": 4,
 "nbformat_minor": 2
}
